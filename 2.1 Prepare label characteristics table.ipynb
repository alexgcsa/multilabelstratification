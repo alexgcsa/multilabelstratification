{
 "cells": [
  {
   "cell_type": "code",
   "execution_count": null,
   "metadata": {
    "collapsed": true,
    "deletable": true,
    "editable": true
   },
   "outputs": [],
   "source": [
    "from scipy import sparse\n",
    "from skmultilearn.dataset import load_dataset_dump"
   ]
  },
  {
   "cell_type": "code",
   "execution_count": null,
   "metadata": {
    "collapsed": true,
    "deletable": true,
    "editable": true
   },
   "outputs": [],
   "source": [
    "import numpy as np\n",
    "import pandas as pd"
   ]
  },
  {
   "cell_type": "code",
   "execution_count": null,
   "metadata": {
    "collapsed": true,
    "deletable": true,
    "editable": true
   },
   "outputs": [],
   "source": [
    "def labelpairs(y):\n",
    "    samples_with_labelpairs = {}\n",
    "    for row, labels in enumerate(y.rows):\n",
    "        pairs = [(a, b) for b in labels for a in labels if a < b]\n",
    "        for p in pairs:\n",
    "            if p not in samples_with_labelpairs:\n",
    "                samples_with_labelpairs[p] = []\n",
    "            samples_with_labelpairs[p].append(row)\n",
    "    return samples_with_labelpairs"
   ]
  },
  {
   "cell_type": "code",
   "execution_count": null,
   "metadata": {
    "collapsed": true,
    "deletable": true,
    "editable": true
   },
   "outputs": [],
   "source": [
    "sets = {\n",
    "    'bibtex': 159,\n",
    "    'Corel5k': 374,\n",
    "    'delicious': 983,\n",
    "    'genbase': 27,\n",
    "    'emotions': 6,\n",
    "    'enron': 53,\n",
    "    'mediamill': 101,\n",
    "    'medical': 45,\n",
    "    'scene': 6,\n",
    "    'tmc2007-500': 22,\n",
    "    'yeast': 14,\n",
    "    'rcv1subset1': 101,\n",
    "    'rcv1subset2': 101,\n",
    "    'rcv1subset3': 101,\n",
    "    'rcv1subset4': 101,\n",
    "    'rcv1subset5': 101,\n",
    "}"
   ]
  },
  {
   "cell_type": "code",
   "execution_count": null,
   "metadata": {
    "collapsed": true,
    "deletable": true,
    "editable": true
   },
   "outputs": [],
   "source": [
    "label_pairs = {}\n",
    "for s in sets:\n",
    "    d = load_dataset_dump('./dumps/{}.scikitml.bz2'.format(s))\n",
    "    y = d['y']\n",
    "    label_pairs[s]=labelpairs(y)"
   ]
  },
  {
   "cell_type": "code",
   "execution_count": null,
   "metadata": {
    "collapsed": false,
    "deletable": true,
    "editable": true
   },
   "outputs": [],
   "source": [
    "label_pairs = {}\n",
    "for s in sets:\n",
    "    d = load_dataset_dump('./dumps/{}.scikitml.bz2'.format(s))\n",
    "    y = d['y']\n",
    "    label_pairs[s]=labelpairs(y)"
   ]
  },
  {
   "cell_type": "code",
   "execution_count": null,
   "metadata": {
    "collapsed": true,
    "deletable": true,
    "editable": true
   },
   "outputs": [],
   "source": [
    "example_counts = {}\n",
    "for s in sets:\n",
    "    d = load_dataset_dump('./dumps/{}.scikitml.bz2'.format(s))\n",
    "    y = d['y']\n",
    "    example_counts[s]=y.shape"
   ]
  },
  {
   "cell_type": "code",
   "execution_count": null,
   "metadata": {
    "collapsed": true,
    "deletable": true,
    "editable": true
   },
   "outputs": [],
   "source": [
    "labels = {}\n",
    "for s in sets:\n",
    "    d = load_dataset_dump('./dumps/{}.scikitml.bz2'.format(s))\n",
    "    y = d['y']\n",
    "    labels[s]=y.sum(axis=0).tolist()[0]"
   ]
  },
  {
   "cell_type": "code",
   "execution_count": null,
   "metadata": {
    "collapsed": false,
    "deletable": true,
    "editable": true
   },
   "outputs": [],
   "source": [
    "df = {k: len(v)/np.round(float(example_counts[s][0]),2)  for k,v in label_pairs.iteritems()}"
   ]
  },
  {
   "cell_type": "code",
   "execution_count": null,
   "metadata": {
    "collapsed": false,
    "deletable": true,
    "editable": true,
    "scrolled": true
   },
   "outputs": [],
   "source": [
    "pd.Series(df)"
   ]
  },
  {
   "cell_type": "code",
   "execution_count": null,
   "metadata": {
    "collapsed": false,
    "deletable": true,
    "editable": true
   },
   "outputs": [],
   "source": [
    "get_columns = lambda a, b: {(b, 'min'): np.min(a), (b, 'mean'): int(np.round(np.mean(a))), (b, 'max'):np.max(a)}\n",
    "lp_df = {i: get_columns(map(len, x.values()), 'examples per label pair') for i, x in label_pairs.iteritems()}"
   ]
  },
  {
   "cell_type": "code",
   "execution_count": null,
   "metadata": {
    "collapsed": false,
    "deletable": true,
    "editable": true
   },
   "outputs": [],
   "source": [
    "get_columns = lambda a, b: {(b, 'min'): np.min(a), (b, 'mean'): int(np.round(np.mean(a))), (b, 'max'):np.max(a)}\n",
    "lab_df = {i: get_columns(x, 'examples per label') for i, x in labels.iteritems()}"
   ]
  },
  {
   "cell_type": "code",
   "execution_count": null,
   "metadata": {
    "collapsed": true,
    "deletable": true,
    "editable": true
   },
   "outputs": [],
   "source": [
    "# use this in article if space allows"
   ]
  },
  {
   "cell_type": "code",
   "execution_count": null,
   "metadata": {
    "collapsed": false,
    "deletable": true,
    "editable": true
   },
   "outputs": [],
   "source": [
    "pd.concat([pd.DataFrame(lab_df), pd.DataFrame(lp_df)]).T"
   ]
  },
  {
   "cell_type": "code",
   "execution_count": null,
   "metadata": {
    "collapsed": true,
    "deletable": true,
    "editable": true
   },
   "outputs": [],
   "source": []
  }
 ],
 "metadata": {
  "kernelspec": {
   "display_name": "Python 2",
   "language": "python",
   "name": "python2"
  },
  "language_info": {
   "codemirror_mode": {
    "name": "ipython",
    "version": 2
   },
   "file_extension": ".py",
   "mimetype": "text/x-python",
   "name": "python",
   "nbconvert_exporter": "python",
   "pygments_lexer": "ipython2",
   "version": "2.7.12"
  }
 },
 "nbformat": 4,
 "nbformat_minor": 2
}
