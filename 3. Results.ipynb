{
 "cells": [
  {
   "cell_type": "code",
   "execution_count": null,
   "metadata": {
    "collapsed": true,
    "deletable": true,
    "editable": true
   },
   "outputs": [],
   "source": [
    "import pandas as pd\n",
    "import jsonpickle\n",
    "import jsonpickle.ext.numpy as jsonpickle_numpy\n",
    "jsonpickle_numpy.register_handlers()"
   ]
  },
  {
   "cell_type": "code",
   "execution_count": null,
   "metadata": {
    "collapsed": true,
    "deletable": true,
    "editable": true
   },
   "outputs": [],
   "source": [
    "import numpy as np"
   ]
  },
  {
   "cell_type": "code",
   "execution_count": null,
   "metadata": {
    "collapsed": false,
    "deletable": true,
    "editable": true
   },
   "outputs": [],
   "source": [
    "with open(\"./results/classification.json\",\"r\") as fp:\n",
    "    data = jsonpickle.loads(fp.read())"
   ]
  },
  {
   "cell_type": "code",
   "execution_count": null,
   "metadata": {
    "collapsed": true,
    "deletable": true,
    "editable": true
   },
   "outputs": [],
   "source": [
    "def get_std(x):\n",
    "    ret_dict = {}\n",
    "    for s, data in x.iteritems():\n",
    "        for measure, v in data.iteritems():\n",
    "            if measure not in ret_dict:\n",
    "                ret_dict[measure]={}\n",
    "            for k, d in v.iteritems():\n",
    "                #ret_dict[(k,'mean')] = np.round(np.mean(d), 2)\n",
    "                # ret_dict[(k,'std')] =  np.round(np.std(d),3)\n",
    "                ret_dict[measure][(s,k)] = np.round(np.std(d),3)\n",
    "    return ret_dict"
   ]
  },
  {
   "cell_type": "code",
   "execution_count": null,
   "metadata": {
    "collapsed": false,
    "deletable": true,
    "editable": true
   },
   "outputs": [],
   "source": [
    "df = {m: pd.DataFrame(get_std(d)) for m,d in data.iteritems()}"
   ]
  },
  {
   "cell_type": "code",
   "execution_count": null,
   "metadata": {
    "collapsed": false,
    "deletable": true,
    "editable": true
   },
   "outputs": [],
   "source": [
    "df['br'].apply(lambda x: x.groupby(level=0).rank(ascending=True).groupby(level=1).mean(), axis=0)"
   ]
  },
  {
   "cell_type": "code",
   "execution_count": null,
   "metadata": {
    "collapsed": false,
    "deletable": true,
    "editable": true
   },
   "outputs": [],
   "source": [
    "df['lp'].apply(lambda x: x.groupby(level=0).rank(ascending=True).groupby(level=1).mean(), axis=0)"
   ]
  },
  {
   "cell_type": "code",
   "execution_count": null,
   "metadata": {
    "collapsed": false,
    "deletable": true,
    "editable": true
   },
   "outputs": [],
   "source": [
    "df['FG'].apply(lambda x: x.groupby(level=0).rank(ascending=True).groupby(level=1).mean(), axis=0)"
   ]
  },
  {
   "cell_type": "code",
   "execution_count": null,
   "metadata": {
    "collapsed": false,
    "deletable": true,
    "editable": true
   },
   "outputs": [],
   "source": [
    "df['FGW'].apply(lambda x: x.groupby(level=0).rank(ascending=True).groupby(level=1).mean(), axis=0)"
   ]
  },
  {
   "cell_type": "code",
   "execution_count": null,
   "metadata": {
    "collapsed": true,
    "deletable": true,
    "editable": true
   },
   "outputs": [],
   "source": [
    "with open(\"./results/networks.json\",\"r\") as fp:\n",
    "    networks = jsonpickle.loads(fp.read())"
   ]
  },
  {
   "cell_type": "markdown",
   "metadata": {
    "deletable": true,
    "editable": true
   },
   "source": [
    "# Network Characteristics"
   ]
  },
  {
   "cell_type": "code",
   "execution_count": null,
   "metadata": {
    "collapsed": false,
    "deletable": true,
    "editable": true
   },
   "outputs": [],
   "source": [
    "for s in networks:\n",
    "    for v in networks[s]:\n",
    "        for m in networks[s][v]:\n",
    "            if 'SOIS-N' in networks[s][v][m]:\n",
    "                del networks[s][v][m]['SOIS-N']"
   ]
  },
  {
   "cell_type": "code",
   "execution_count": null,
   "metadata": {
    "collapsed": true,
    "deletable": true,
    "editable": true
   },
   "outputs": [],
   "source": [
    "def get_network_std(x, var, nm):\n",
    "    ret_dict = {}\n",
    "    for s, data in x.iteritems():\n",
    "        for k, d in data[var][nm].iteritems():\n",
    "            #ret_dict[(k,'mean')] = np.round(np.mean(d), 2)\n",
    "            # ret_dict[(k,'std')] =  np.round(np.std(d),3)\n",
    "            ret_dict[(s,k)] = np.round(np.std(d),3)\n",
    "    return ret_dict"
   ]
  },
  {
   "cell_type": "code",
   "execution_count": null,
   "metadata": {
    "collapsed": true,
    "deletable": true,
    "editable": true
   },
   "outputs": [],
   "source": [
    "def get_network_mean(x, var, nm):\n",
    "    ret_dict = {}\n",
    "    for s, data in x.iteritems():\n",
    "        for k, d in data[var][nm].iteritems():\n",
    "            #ret_dict[(k,'mean')] = np.round(np.mean(d), 2)\n",
    "            # ret_dict[(k,'std')] =  np.round(np.std(d),3)\n",
    "            ret_dict[(s,k)] = np.round(np.mean(d),3)\n",
    "    return ret_dict"
   ]
  },
  {
   "cell_type": "code",
   "execution_count": null,
   "metadata": {
    "collapsed": true,
    "deletable": true,
    "editable": true
   },
   "outputs": [],
   "source": [
    "def jaccard_score(a,b):\n",
    "    a_s = set(map(str,a))\n",
    "    b_s = set(map(str,b))\n",
    "    \n",
    "    nominator = len(a_s.intersection(b_s))\n",
    "    denominator = len(a_s.union(b_s))\n",
    "    \n",
    "    return float(nominator)/denominator"
   ]
  },
  {
   "cell_type": "code",
   "execution_count": null,
   "metadata": {
    "collapsed": true,
    "deletable": true,
    "editable": true
   },
   "outputs": [],
   "source": [
    "def get_unique(x):\n",
    "    unique_x = []\n",
    "    for i in x:\n",
    "        if i not in unique_x:\n",
    "            unique_x.append(i)\n",
    "    return unique_x"
   ]
  },
  {
   "cell_type": "code",
   "execution_count": null,
   "metadata": {
    "collapsed": false,
    "deletable": true,
    "editable": true
   },
   "outputs": [],
   "source": [
    "def get_jaccard(y):\n",
    "    scores = {}\n",
    "    for n, x1 in y.iteritems():\n",
    "        scores[n]=[]\n",
    "        x=get_unique(x1)\n",
    "        for i in xrange(len(x)):\n",
    "            for j in xrange(i+1, len(x)):\n",
    "                scores[n].append(jaccard_score(x[i][0], x[j][0]))\n",
    "    return {k: np.mean(v) if len(v)>0 else 1.0 for k,v in scores.iteritems()}"
   ]
  },
  {
   "cell_type": "code",
   "execution_count": null,
   "metadata": {
    "collapsed": true,
    "deletable": true,
    "editable": true
   },
   "outputs": [],
   "source": [
    "def get_unique_count(y):\n",
    "    scores = {}\n",
    "    for n, x1 in y.iteritems():\n",
    "        scores[n]=len(get_unique(x1))\n",
    "    return scores"
   ]
  },
  {
   "cell_type": "code",
   "execution_count": null,
   "metadata": {
    "collapsed": true,
    "deletable": true,
    "editable": true
   },
   "outputs": [],
   "source": [
    "def get_sizes(y):\n",
    "    scores = {}\n",
    "    for n, x1 in y.iteritems():\n",
    "        scores[n]=np.round(np.std(map(len,x1)),2)\n",
    "    return scores"
   ]
  },
  {
   "cell_type": "code",
   "execution_count": null,
   "metadata": {
    "collapsed": true,
    "deletable": true,
    "editable": true
   },
   "outputs": [],
   "source": [
    "sets = networks.keys()\n",
    "variants = ['train', 'test']"
   ]
  },
  {
   "cell_type": "code",
   "execution_count": null,
   "metadata": {
    "collapsed": false,
    "deletable": true,
    "editable": true
   },
   "outputs": [],
   "source": [
    "fold_methods = networks['scene']['test_communities']['FG'].keys()"
   ]
  },
  {
   "cell_type": "code",
   "execution_count": null,
   "metadata": {
    "collapsed": false,
    "deletable": true,
    "editable": true
   },
   "outputs": [],
   "source": [
    "jaccard_score(networks[s]['train_communities'][m][f][2], networks[s]['test_communities'][m][f][2])"
   ]
  },
  {
   "cell_type": "code",
   "execution_count": null,
   "metadata": {
    "collapsed": true,
    "deletable": true,
    "editable": true
   },
   "outputs": [],
   "source": [
    "def are_same(a,b):\n",
    "    return int(sorted(map(sorted,a))==sorted(map(sorted,b)))"
   ]
  },
  {
   "cell_type": "code",
   "execution_count": null,
   "metadata": {
    "collapsed": false,
    "deletable": true,
    "editable": true
   },
   "outputs": [],
   "source": [
    "inter_fold_jaccards = {m:{} for m in network_methods}\n",
    "for s in sets:\n",
    "    for m in network_methods:\n",
    "        for f in fold_methods:\n",
    "            inter_fold_jaccards[m][(s,f)]=sum([are_same(networks[s]['train_communities'][m][f][i],networks[s]['test_communities'][m][f][i]) for i in range(10)])"
   ]
  },
  {
   "cell_type": "code",
   "execution_count": null,
   "metadata": {
    "collapsed": false,
    "deletable": true,
    "editable": true
   },
   "outputs": [],
   "source": [
    "modularity_diff_means = {m:{} for m in network_methods}\n",
    "for s in sets:\n",
    "    for m in network_methods:\n",
    "        for f in fold_methods:\n",
    "            modularity_diff_means[m][(s,f)]=np.mean([abs(networks[s]['train_modularities'][m][f][i]-networks[s]['test_modularities'][m][f][i]) for i in range(10)])\n",
    "pd.DataFrame(modularity_diff_means).apply(lambda x: x.groupby(level=0).rank(ascending=True).groupby(level=1).mean(), axis=0)            "
   ]
  },
  {
   "cell_type": "code",
   "execution_count": null,
   "metadata": {
    "collapsed": false,
    "deletable": true,
    "editable": true
   },
   "outputs": [],
   "source": [
    "modularity_diff_means = {m:{} for m in network_methods}\n",
    "for s in sets:\n",
    "    for m in network_methods:\n",
    "        for f in fold_methods:\n",
    "            modularity_diff_means[m][(s,f)]=np.std([abs(networks[s]['train_modularities'][m][f][i]-networks[s]['test_modularities'][m][f][i]) for i in range(10)])\n",
    "pd.DataFrame(modularity_diff_means).apply(lambda x: x.groupby(level=0).rank(ascending=True).groupby(level=1).mean(), axis=0)            "
   ]
  },
  {
   "cell_type": "code",
   "execution_count": null,
   "metadata": {
    "collapsed": true,
    "deletable": true,
    "editable": true
   },
   "outputs": [],
   "source": []
  },
  {
   "cell_type": "code",
   "execution_count": null,
   "metadata": {
    "collapsed": false,
    "deletable": true,
    "editable": true,
    "scrolled": true
   },
   "outputs": [],
   "source": [
    "variant_names = [ '# unique communities ({})', 'Community sizes std ({})', 'Modularity std ({})', 'Modularity mean ({})']\n",
    "\n",
    "network_frames = {m: {} for m in network_methods}\n",
    "for s in sets:\n",
    "    print s\n",
    "    for v in variants:\n",
    "        for m in network_methods:\n",
    "            for v_name in variant_names:\n",
    "                v_name_formatted=v_name.format(v)\n",
    "                if v_name_formatted not in network_frames[m]:\n",
    "                    network_frames[m][v_name_formatted]={}\n",
    "            \n",
    "#            for k,v1 in get_jaccard(networks[s][v+'_communities'][m]).iteritems():\n",
    "#                network_frames[m]['Mean Jaccard Score ({})'.format(v)][(s,k)] = v1\n",
    "            for k,v1 in get_unique_count(networks[s][v+'_communities'][m]).iteritems():\n",
    "                network_frames[m]['# unique communities ({})'.format(v)][(s,k)]= v1\n",
    "            for k,v1 in get_sizes(networks[s][v+'_communities'][m]).iteritems():\n",
    "                network_frames[m]['Community sizes std ({})'.format(v)][(s,k)]=v1\n",
    "            \n",
    "            network_frames[m]['Modularity std ({})'.format(v)] = get_network_std(networks,v+'_modularities',m)\n",
    "            network_frames[m]['Modularity mean ({})'.format(v)] = get_network_mean(networks,v+'_modularities',m)\n",
    "            network_frames[m]['# matched partitions in folds']=inter_fold_jaccards[m]"
   ]
  },
  {
   "cell_type": "code",
   "execution_count": null,
   "metadata": {
    "collapsed": false,
    "deletable": true,
    "editable": true
   },
   "outputs": [],
   "source": [
    "network_dfs = {k: pd.DataFrame(network_frames[k]) for k in network_methods}\n",
    "for k in network_dfs:\n",
    "    for c in network_dfs[k].columns:\n",
    "        if 'mean' in c.lower() or 'matched' in c.lower():\n",
    "            network_dfs[k][c] = -network_dfs[k][c]"
   ]
  },
  {
   "cell_type": "code",
   "execution_count": null,
   "metadata": {
    "collapsed": false,
    "deletable": true,
    "editable": true
   },
   "outputs": [],
   "source": [
    "network_dfs['FG'].apply(lambda x: x.groupby(level=0).rank(ascending=True).groupby(level=1).mean(), axis=0)"
   ]
  },
  {
   "cell_type": "code",
   "execution_count": null,
   "metadata": {
    "collapsed": false,
    "deletable": true,
    "editable": true
   },
   "outputs": [],
   "source": [
    "network_dfs['FGW'].apply(lambda x: x.groupby(level=0).rank(ascending=True).groupby(level=1).mean(), axis=0)"
   ]
  },
  {
   "cell_type": "code",
   "execution_count": null,
   "metadata": {
    "collapsed": false,
    "deletable": true,
    "editable": true
   },
   "outputs": [],
   "source": [
    "len(sets)"
   ]
  },
  {
   "cell_type": "code",
   "execution_count": null,
   "metadata": {
    "collapsed": false,
    "deletable": true,
    "editable": true
   },
   "outputs": [],
   "source": [
    "print sets"
   ]
  },
  {
   "cell_type": "code",
   "execution_count": null,
   "metadata": {
    "collapsed": true,
    "deletable": true,
    "editable": true
   },
   "outputs": [],
   "source": []
  }
 ],
 "metadata": {
  "kernelspec": {
   "display_name": "Python 2",
   "language": "python",
   "name": "python2"
  },
  "language_info": {
   "codemirror_mode": {
    "name": "ipython",
    "version": 2
   },
   "file_extension": ".py",
   "mimetype": "text/x-python",
   "name": "python",
   "nbconvert_exporter": "python",
   "pygments_lexer": "ipython2",
   "version": "2.7.12"
  }
 },
 "nbformat": 4,
 "nbformat_minor": 2
}
